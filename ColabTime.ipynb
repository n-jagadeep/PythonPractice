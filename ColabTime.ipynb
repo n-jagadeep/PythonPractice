{
  "nbformat": 4,
  "nbformat_minor": 0,
  "metadata": {
    "colab": {
      "provenance": [],
      "authorship_tag": "ABX9TyN/POcfqk/mVAgBpALkYZtb",
      "include_colab_link": true
    },
    "kernelspec": {
      "name": "python3",
      "display_name": "Python 3"
    },
    "language_info": {
      "name": "python"
    }
  },
  "cells": [
    {
      "cell_type": "markdown",
      "metadata": {
        "id": "view-in-github",
        "colab_type": "text"
      },
      "source": [
        "<a href=\"https://colab.research.google.com/github/n-jagadeep/PythonPractice/blob/main/ColabTime.ipynb\" target=\"_parent\"><img src=\"https://colab.research.google.com/assets/colab-badge.svg\" alt=\"Open In Colab\"/></a>"
      ]
    },
    {
      "cell_type": "code",
      "source": [
        "pip install ortools"
      ],
      "metadata": {
        "colab": {
          "base_uri": "https://localhost:8080/"
        },
        "id": "gHaTu4RzWGf2",
        "outputId": "c656d866-48b2-4e4f-ffe6-165c2880ac6f"
      },
      "execution_count": 2,
      "outputs": [
        {
          "output_type": "stream",
          "name": "stdout",
          "text": [
            "Collecting ortools\n",
            "  Downloading ortools-9.11.4210-cp310-cp310-manylinux_2_17_x86_64.manylinux2014_x86_64.whl.metadata (3.0 kB)\n",
            "Collecting absl-py>=2.0.0 (from ortools)\n",
            "  Downloading absl_py-2.1.0-py3-none-any.whl.metadata (2.3 kB)\n",
            "Requirement already satisfied: numpy>=1.13.3 in /usr/local/lib/python3.10/dist-packages (from ortools) (1.26.4)\n",
            "Requirement already satisfied: pandas>=2.0.0 in /usr/local/lib/python3.10/dist-packages (from ortools) (2.2.2)\n",
            "Collecting protobuf<5.27,>=5.26.1 (from ortools)\n",
            "  Downloading protobuf-5.26.1-cp37-abi3-manylinux2014_x86_64.whl.metadata (592 bytes)\n",
            "Requirement already satisfied: immutabledict>=3.0.0 in /usr/local/lib/python3.10/dist-packages (from ortools) (4.2.0)\n",
            "Requirement already satisfied: python-dateutil>=2.8.2 in /usr/local/lib/python3.10/dist-packages (from pandas>=2.0.0->ortools) (2.8.2)\n",
            "Requirement already satisfied: pytz>=2020.1 in /usr/local/lib/python3.10/dist-packages (from pandas>=2.0.0->ortools) (2024.2)\n",
            "Requirement already satisfied: tzdata>=2022.7 in /usr/local/lib/python3.10/dist-packages (from pandas>=2.0.0->ortools) (2024.2)\n",
            "Requirement already satisfied: six>=1.5 in /usr/local/lib/python3.10/dist-packages (from python-dateutil>=2.8.2->pandas>=2.0.0->ortools) (1.16.0)\n",
            "Downloading ortools-9.11.4210-cp310-cp310-manylinux_2_17_x86_64.manylinux2014_x86_64.whl (28.1 MB)\n",
            "\u001b[2K   \u001b[90m━━━━━━━━━━━━━━━━━━━━━━━━━━━━━━━━━━━━━━━━\u001b[0m \u001b[32m28.1/28.1 MB\u001b[0m \u001b[31m61.7 MB/s\u001b[0m eta \u001b[36m0:00:00\u001b[0m\n",
            "\u001b[?25hDownloading absl_py-2.1.0-py3-none-any.whl (133 kB)\n",
            "\u001b[2K   \u001b[90m━━━━━━━━━━━━━━━━━━━━━━━━━━━━━━━━━━━━━━━━\u001b[0m \u001b[32m133.7/133.7 kB\u001b[0m \u001b[31m9.4 MB/s\u001b[0m eta \u001b[36m0:00:00\u001b[0m\n",
            "\u001b[?25hDownloading protobuf-5.26.1-cp37-abi3-manylinux2014_x86_64.whl (302 kB)\n",
            "\u001b[2K   \u001b[90m━━━━━━━━━━━━━━━━━━━━━━━━━━━━━━━━━━━━━━━━\u001b[0m \u001b[32m302.8/302.8 kB\u001b[0m \u001b[31m20.1 MB/s\u001b[0m eta \u001b[36m0:00:00\u001b[0m\n",
            "\u001b[?25hInstalling collected packages: protobuf, absl-py, ortools\n",
            "  Attempting uninstall: protobuf\n",
            "    Found existing installation: protobuf 3.20.3\n",
            "    Uninstalling protobuf-3.20.3:\n",
            "      Successfully uninstalled protobuf-3.20.3\n",
            "  Attempting uninstall: absl-py\n",
            "    Found existing installation: absl-py 1.4.0\n",
            "    Uninstalling absl-py-1.4.0:\n",
            "      Successfully uninstalled absl-py-1.4.0\n",
            "\u001b[31mERROR: pip's dependency resolver does not currently take into account all the packages that are installed. This behaviour is the source of the following dependency conflicts.\n",
            "google-cloud-datastore 2.19.0 requires protobuf!=3.20.0,!=3.20.1,!=4.21.0,!=4.21.1,!=4.21.2,!=4.21.3,!=4.21.4,!=4.21.5,<5.0.0dev,>=3.19.5, but you have protobuf 5.26.1 which is incompatible.\n",
            "google-cloud-firestore 2.16.1 requires protobuf!=3.20.0,!=3.20.1,!=4.21.0,!=4.21.1,!=4.21.2,!=4.21.3,!=4.21.4,!=4.21.5,<5.0.0dev,>=3.19.5, but you have protobuf 5.26.1 which is incompatible.\n",
            "tensorboard 2.17.0 requires protobuf!=4.24.0,<5.0.0,>=3.19.6, but you have protobuf 5.26.1 which is incompatible.\n",
            "tensorflow 2.17.0 requires protobuf!=4.21.0,!=4.21.1,!=4.21.2,!=4.21.3,!=4.21.4,!=4.21.5,<5.0.0dev,>=3.20.3, but you have protobuf 5.26.1 which is incompatible.\n",
            "tensorflow-metadata 1.16.1 requires protobuf<4.21,>=3.20.3; python_version < \"3.11\", but you have protobuf 5.26.1 which is incompatible.\u001b[0m\u001b[31m\n",
            "\u001b[0mSuccessfully installed absl-py-2.1.0 ortools-9.11.4210 protobuf-5.26.1\n"
          ]
        }
      ]
    },
    {
      "cell_type": "code",
      "execution_count": 3,
      "metadata": {
        "colab": {
          "base_uri": "https://localhost:8080/"
        },
        "id": "hPOpbzNeV-x8",
        "outputId": "813c1cd0-e135-4c0c-9c42-c2d0373a6460"
      },
      "outputs": [
        {
          "output_type": "stream",
          "name": "stdout",
          "text": [
            "[deviation_job3(0..24)] deviation_job3\n",
            "[deviation_job3(0..24), deviation_job4(0..24)] deviation_job4\n",
            "schedule found 10.0 hours\n",
            "Job 1 starts at 0 \n",
            "Job 2 starts at 8 \n",
            "Job 3 starts at 6 \n",
            "Job 4 starts at 5 \n",
            "Job 5 starts at 7 \n",
            "[deviation_job3(0..24)] deviation_job3\n",
            "[deviation_job3(0..24), deviation_job4(0..24)] deviation_job4\n",
            "schedule found 10.0 hours\n",
            "Job 1 starts at 0 \n",
            "Job 2 starts at 8 \n",
            "Job 3 starts at 6 \n",
            "Job 4 starts at 5 \n",
            "Job 5 starts at 7 \n",
            "[deviation_job3(0..24)] deviation_job3\n",
            "[deviation_job3(0..24), deviation_job4(0..24)] deviation_job4\n",
            "schedule found 10.0 hours\n",
            "Job 1 starts at 0 \n",
            "Job 2 starts at 8 \n",
            "Job 3 starts at 6 \n",
            "Job 4 starts at 5 \n",
            "Job 5 starts at 7 \n",
            "[deviation_job3(0..24)] deviation_job3\n",
            "[deviation_job3(0..24), deviation_job4(0..24)] deviation_job4\n",
            "schedule found 10.0 hours\n",
            "Job 1 starts at 0 \n",
            "Job 2 starts at 8 \n",
            "Job 3 starts at 6 \n",
            "Job 4 starts at 5 \n",
            "Job 5 starts at 7 \n",
            "[deviation_job3(0..24)] deviation_job3\n",
            "[deviation_job3(0..24), deviation_job4(0..24)] deviation_job4\n",
            "schedule found 10.0 hours\n",
            "Job 1 starts at 0 \n",
            "Job 2 starts at 8 \n",
            "Job 3 starts at 6 \n",
            "Job 4 starts at 5 \n",
            "Job 5 starts at 7 \n",
            "[deviation_job3(0..24)] deviation_job3\n",
            "[deviation_job3(0..24), deviation_job4(0..24)] deviation_job4\n",
            "schedule found 10.0 hours\n",
            "Job 1 starts at 0 \n",
            "Job 2 starts at 8 \n",
            "Job 3 starts at 6 \n",
            "Job 4 starts at 5 \n",
            "Job 5 starts at 7 \n",
            "[deviation_job3(0..24)] deviation_job3\n",
            "[deviation_job3(0..24), deviation_job4(0..24)] deviation_job4\n",
            "schedule found 10.0 hours\n",
            "Job 1 starts at 0 \n",
            "Job 2 starts at 8 \n",
            "Job 3 starts at 6 \n",
            "Job 4 starts at 5 \n",
            "Job 5 starts at 7 \n",
            "[deviation_job3(0..24)] deviation_job3\n",
            "[deviation_job3(0..24), deviation_job4(0..24)] deviation_job4\n",
            "schedule found 10.0 hours\n",
            "Job 1 starts at 0 \n",
            "Job 2 starts at 8 \n",
            "Job 3 starts at 6 \n",
            "Job 4 starts at 5 \n",
            "Job 5 starts at 7 \n",
            "8.61 ms ± 1.85 ms per loop (mean ± std. dev. of 7 runs, 1 loop each)\n"
          ]
        }
      ],
      "source": [
        "%%timeit\n",
        "from ortools.sat.python import cp_model\n",
        "\n",
        "model = cp_model.CpModel()\n",
        "\n",
        "horizon = 24\n",
        "\n",
        "jobs = [\n",
        "    {\"duration\": 1},\n",
        "    {\"fixed_start\": 8 , \"duration\": 1},\n",
        "    {\"fixed_start\": 6 , \"duration\": 1},\n",
        "    {\"preferred_start\": 6 , \"duration\": 1},\n",
        "    {\"preferred_start\": 7 , \"duration\": 1}\n",
        "]\n",
        "job_variables = {}\n",
        "penalty_terms = []\n",
        "\n",
        "\n",
        "for i, job in enumerate(jobs):\n",
        "  if 'fixed_start' in job:\n",
        "    start_time = model.NewIntVar(job['fixed_start'],job['fixed_start'],f\"job{i}_start\")\n",
        "    #print(job['fixed_start'])\n",
        "  elif 'preferred_start' in job:\n",
        "    start_time = model.NewIntVar(0,horizon - job['duration'], f\"job{i}_start\")\n",
        "    preferred_start = job['preferred_start']\n",
        "    deviation = model.NewIntVar(0, horizon, f\"deviation_job{i}\")\n",
        "    model.AddAbsEquality(deviation, start_time - preferred_start)\n",
        "    penalty_terms.append(deviation)\n",
        "    print(penalty_terms,deviation)\n",
        "  else:\n",
        "    start_time = model.NewIntVar(0,horizon - job['duration'], f\"job{i}_start\")\n",
        "  job_variables[i] = {\n",
        "    \"start_time\": start_time,\n",
        "    \"duration\" : job['duration']\n",
        "    }\n",
        "\n",
        "intervals = []\n",
        "for i, job in enumerate(jobs):\n",
        "    start_time = job_variables[i]['start_time']\n",
        "    duration = job_variables[i]['duration']\n",
        "    end_time = start_time + duration\n",
        "    intervals.append(model.NewIntervalVar(start_time, duration, end_time, f\"Job{i}_interval\"))\n",
        "\n",
        "model.AddNoOverlap(intervals)\n",
        "\n",
        "makespan = model.NewIntVar(0 , horizon , 'makespan')\n",
        "\n",
        "job_end_times = [job_variables[i]['start_time'] + job_variables[i]['duration'] for i in range(len(jobs))]\n",
        "\n",
        "model.AddMaxEquality(makespan, job_end_times)\n",
        "\n",
        "model.Minimize(makespan + sum(penalty_terms))\n",
        "\n",
        "solver = cp_model.CpSolver()\n",
        "status = solver.Solve(model)\n",
        "\n",
        "if status == cp_model.OPTIMAL or status == cp_model.FEASIBLE:\n",
        "    print(f\"schedule found {solver.ObjectiveValue()} hours\")\n",
        "    for i, job in enumerate(jobs):\n",
        "        print(f\"Job {i + 1} starts at {solver.Value(job_variables[i]['start_time'])} \")\n",
        "else:\n",
        "    print(\"No solution found.\")\n",
        "\n",
        "\n",
        "\n"
      ]
    }
  ]
}