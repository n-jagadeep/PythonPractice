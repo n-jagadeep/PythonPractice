{
 "cells": [
  {
   "cell_type": "code",
   "execution_count": 35,
   "metadata": {},
   "outputs": [
    {
     "name": "stdout",
     "output_type": "stream",
     "text": [
      "[(0, {'duration': 1}), (1, {'fixed_start': 8, 'duration': 1}), (2, {'fixed_start': 6, 'duration': 1}), (3, {'preferred_start': 6, 'duration': 1}), (4, {'preferred_start': 7, 'duration': 1})]\n",
      "8\n",
      "6\n",
      "{0: {'start_time': job0_start(0..23), 'duration': 1}, 1: {'start_time': job1_start(8), 'duration': 1}, 2: {'start_time': job2_start(6), 'duration': 1}, 3: {'start_time': job3_start(0..23), 'duration': 1}, 4: {'start_time': job4_start(0..23), 'duration': 1}}\n",
      "schedule found 9.0 hours\n",
      "Job 1 starts at 0 \n",
      "Job 2 starts at 8 \n",
      "Job 3 starts at 6 \n",
      "Job 4 starts at 1 \n",
      "Job 5 starts at 2 \n"
     ]
    }
   ],
   "source": [
    "from ortools.sat.python import cp_model\n",
    "\n",
    "model = cp_model.CpModel()\n",
    "\n",
    "horizon = 24 \n",
    "\n",
    "jobs = [\n",
    "    {\"duration\": 1},                \n",
    "    {\"fixed_start\": 8 , \"duration\": 1}, \n",
    "    {\"fixed_start\": 6 , \"duration\": 1},\n",
    "    {\"preferred_start\": 6 , \"duration\": 1}, \n",
    "    {\"preferred_start\": 7 , \"duration\": 1} \n",
    "]\n",
    "job_variables = {}\n",
    "\n",
    "print(list(enumerate(jobs)))\n",
    "\n",
    "for i, job in enumerate(jobs):\n",
    "  if 'fixed_start' in job:\n",
    "    start_time = model.NewIntVar(job['fixed_start'],job['fixed_start'],f\"job{i}_start\")\n",
    "    print(job['fixed_start'])\n",
    "  else:\n",
    "    start_time = model.NewIntVar(0,horizon - job['duration'], f\"job{i}_start\")\n",
    "  job_variables[i] = {\n",
    "    \"start_time\": start_time,\n",
    "    \"duration\" : job['duration']\n",
    "    }\n",
    "  \n",
    "# job_end = [model.new_int_var(job_preference[i], job_preference[i]+duration, f\"JobEnd{i}\") for i in range (number_of_jobs)]\n",
    "# model.add_all_different(job_end)\n",
    "# print(job_end)\n",
    "\n",
    "print(job_variables)\n",
    "\n",
    "intervals = []\n",
    "for i, job in enumerate(jobs):\n",
    "    start_time = job_variables[i]['start_time']\n",
    "    duration = job_variables[i]['duration']\n",
    "    end_time = start_time + duration\n",
    "    intervals.append(model.NewIntervalVar(start_time, duration, end_time, f\"Job{i}_interval\"))\n",
    "\n",
    "model.AddNoOverlap(intervals)\n",
    "\n",
    "makespan = model.NewIntVar(0 , horizon , 'makespan')\n",
    "\n",
    "job_end_times = [job_variables[i]['start_time'] + job_variables[i]['duration'] for i in range(len(jobs))]\n",
    "\n",
    "model.AddMaxEquality(makespan, job_end_times)\n",
    "\n",
    "model.Minimize(makespan)\n",
    "\n",
    "solver = cp_model.CpSolver()\n",
    "status = solver.Solve(model)\n",
    "\n",
    "if status == cp_model.OPTIMAL or status == cp_model.FEASIBLE:\n",
    "    print(f\"schedule found {solver.ObjectiveValue()} hours\")\n",
    "    for i, job in enumerate(jobs):\n",
    "        print(f\"Job {i + 1} starts at {solver.Value(job_variables[i]['start_time'])} \")\n",
    "else:\n",
    "    print(\"No solution found.\")\n",
    "\n",
    "\n",
    "\n"
   ]
  }
 ],
 "metadata": {
  "kernelspec": {
   "display_name": "Python 3",
   "language": "python",
   "name": "python3"
  },
  "language_info": {
   "codemirror_mode": {
    "name": "ipython",
    "version": 3
   },
   "file_extension": ".py",
   "mimetype": "text/x-python",
   "name": "python",
   "nbconvert_exporter": "python",
   "pygments_lexer": "ipython3",
   "version": "3.12.0"
  }
 },
 "nbformat": 4,
 "nbformat_minor": 2
}
